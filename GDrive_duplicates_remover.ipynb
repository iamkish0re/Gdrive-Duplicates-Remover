{
  "nbformat": 4,
  "nbformat_minor": 0,
  "metadata": {
    "colab": {
      "provenance": [],
      "authorship_tag": "ABX9TyMPIkN5LVy1qB8GlcrSJ6JN",
      "include_colab_link": true
    },
    "kernelspec": {
      "name": "python3",
      "display_name": "Python 3"
    },
    "language_info": {
      "name": "python"
    }
  },
  "cells": [
    {
      "cell_type": "markdown",
      "metadata": {
        "id": "view-in-github",
        "colab_type": "text"
      },
      "source": [
        "<a href=\"https://colab.research.google.com/github/iamkish0re/Gdrive-Duplicates-Remover/blob/gdrive-test/GDrive_duplicates_remover.ipynb\" target=\"_parent\"><img src=\"https://colab.research.google.com/assets/colab-badge.svg\" alt=\"Open In Colab\"/></a>"
      ]
    },
    {
      "cell_type": "markdown",
      "source": [
        "#   Google Drive duplicates remover (using colab)\n",
        "\n",
        "> This notebook will remove all the duplicates in the specified folder and subfolders of google drive and delete them (move them to trash).\n",
        "\n",
        "\n",
        "\n"
      ],
      "metadata": {
        "id": "whmxzyvLwh18"
      }
    },
    {
      "cell_type": "code",
      "execution_count": null,
      "metadata": {
        "id": "OYiB0YDbH3aH"
      },
      "outputs": [],
      "source": [
        "from google.colab import drive\n",
        "drive.mount('/content/gdrive/', force_remount=True)"
      ]
    },
    {
      "cell_type": "markdown",
      "source": [
        "Usage :\n",
        "Specify the path of the folder which you want to find and remove duplicates\n",
        "\n",
        "Example: If the folder path is `root/user/company` and company is the folder you want to find duplicates. Specify `root/user` below"
      ],
      "metadata": {
        "id": "a4ET5YY0yq-5"
      }
    },
    {
      "cell_type": "code",
      "source": [
        "# %cd gdrive/Shareddrives/Munnar\n",
        "%cd .."
      ],
      "metadata": {
        "id": "MqNHsj2AUiG6"
      },
      "execution_count": null,
      "outputs": []
    },
    {
      "cell_type": "code",
      "source": [
        "import glob, os, shutil, logging, time\n",
        "from hashlib import sha256"
      ],
      "metadata": {
        "id": "Q6eKjLZBIhA8"
      },
      "execution_count": 8,
      "outputs": []
    },
    {
      "cell_type": "code",
      "source": [
        "# Create a custom logger\n",
        "logger = logging.getLogger('gdrive-duplicate-remover')\n",
        "logger.propagate = False # do not pass logs to the default logger\n",
        "logging.basicConfig(\n",
        "                    level=logging.DEBUG,\n",
        "                    force=True, # Resets any previous configuration\n",
        "                    )\n",
        "# Create handlers\n",
        "handler = logging.StreamHandler()\n",
        "\n",
        "# Create formatters and add it to handlers\n",
        "format = logging.Formatter('%(asctime)s - %(name)s - %(levelname)s - %(message)s', datefmt='%d-%b-%y %H:%M:%S')\n",
        "handler.setFormatter(format)\n",
        "\n",
        "# Add handlers to the logger\n",
        "logger.addHandler(handler)\n",
        "logger.propagate = False"
      ],
      "metadata": {
        "id": "zgYvpi8iVRlh"
      },
      "execution_count": 9,
      "outputs": []
    },
    {
      "cell_type": "markdown",
      "source": [],
      "metadata": {
        "id": "1RG85x2rVRDc"
      }
    },
    {
      "cell_type": "code",
      "source": [
        "class GdriveCleaner:\n",
        "    def __init__(self):\n",
        "        self.home_dir = os.getcwd()\n",
        "        self.File_hashes = []\n",
        "        self.File_hashes_folder = []\n",
        "        self.Cleaned_dirs = []\n",
        "        self.Total_bytes_saved = 0\n",
        "        self.block_size = 65536\n",
        "        self.count_cleaned = 0\n",
        "        logger.debug(\"HOME DIRECTORY : \" + str(self.home_dir))\n",
        "        logger.debug(\"DEFAULT BLOCK SIZE : \" + str(self.block_size))\n",
        "\n",
        "\n",
        "    def generate_hash(self, Filename: str) -> str:\n",
        "        Filehash = sha256()\n",
        "        try:\n",
        "            with open(Filename, 'rb') as File:\n",
        "                fileblock = File.read(self.block_size)\n",
        "                while len(fileblock) > 0:\n",
        "                    Filehash.update(fileblock)\n",
        "                    fileblock = File.read(self.block_size)\n",
        "                Filehash = Filehash.hexdigest()\n",
        "            return Filehash\n",
        "        except:\n",
        "            return False\n",
        "\n",
        "    def clean(self, folder_name) -> None:\n",
        "        logger.debug(\"Traversing paths in \" + folder_name)\n",
        "        all_dirs = [path[0] for path in os.walk(folder_name + '/')]\n",
        "        logger.debug(\"Traversing Completed!\")\n",
        "        for path in all_dirs:\n",
        "            logger.debug(\"Current directory : \" + path)\n",
        "            os.chdir(path)\n",
        "            All_Files = [file for file in os.listdir() if os.path.isfile(file)]\n",
        "            for file in All_Files:\n",
        "                filehash = self.generate_hash(file)\n",
        "                if not filehash in self.File_hashes:\n",
        "                    if filehash:\n",
        "                        self.File_hashes.append(filehash)\n",
        "                        # print(file)\n",
        "                else:\n",
        "                    byte_saved = os.path.getsize(file)\n",
        "                    self.count_cleaned += 1\n",
        "                    self.Total_bytes_saved += byte_saved\n",
        "                    os.remove(file)\n",
        "                    filename = file.split('/')[-1]\n",
        "                    logger.info(\"Deleting : \" + file)\n",
        "            os.chdir(self.home_dir)\n",
        "\n",
        "    def cleaning_summary(self) -> None:\n",
        "        mb_saved = self.Total_bytes_saved / 1048576\n",
        "        mb_saved = round(mb_saved, 2)\n",
        "        logger.info('Duplicate removal done!')\n",
        "        logger.debug('File cleaned  : ' + str(self.count_cleaned))\n",
        "        logger.debug('Total Space saved : ' + str(mb_saved) + 'MB')\n",
        "\n",
        "    def main(self, folder_name) -> None:\n",
        "        logger.info(\"Starting Clean ...\")\n",
        "        self.clean(folder_name)\n",
        "        logger.info(\"Clean Completed! ...\")\n",
        "        self.cleaning_summary()\n",
        "\n",
        "\n",
        "def gdrive_duplicate_remover(folder_name):\n",
        "    App = GdriveCleaner()\n",
        "    App.main(folder_name)\n",
        "    return True"
      ],
      "metadata": {
        "id": "ZSm8cVOtPAEF"
      },
      "execution_count": 51,
      "outputs": []
    },
    {
      "cell_type": "markdown",
      "source": [],
      "metadata": {
        "id": "ZXJPDK-owga2"
      }
    },
    {
      "cell_type": "code",
      "source": [
        "gdrive_duplicate_remover('Munnar/')"
      ],
      "metadata": {
        "id": "qxKTrskq69VB"
      },
      "execution_count": null,
      "outputs": []
    }
  ]
}