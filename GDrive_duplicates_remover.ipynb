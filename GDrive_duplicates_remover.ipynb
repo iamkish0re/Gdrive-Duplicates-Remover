{
  "nbformat": 4,
  "nbformat_minor": 0,
  "metadata": {
    "colab": {
      "provenance": [],
      "authorship_tag": "ABX9TyOlyjCsPH/50ccATHGGRV71",
      "include_colab_link": true
    },
    "kernelspec": {
      "name": "python3",
      "display_name": "Python 3"
    },
    "language_info": {
      "name": "python"
    }
  },
  "cells": [
    {
      "cell_type": "markdown",
      "metadata": {
        "id": "view-in-github",
        "colab_type": "text"
      },
      "source": [
        "<a href=\"https://colab.research.google.com/github/iamkish0re/Gdrive-Duplicates-Remover/blob/gdrive-test/GDrive_duplicates_remover.ipynb\" target=\"_parent\"><img src=\"https://colab.research.google.com/assets/colab-badge.svg\" alt=\"Open In Colab\"/></a>"
      ]
    },
    {
      "cell_type": "code",
      "execution_count": 3,
      "metadata": {
        "colab": {
          "base_uri": "https://localhost:8080/"
        },
        "id": "OYiB0YDbH3aH",
        "outputId": "5a17cc14-b529-4bf1-c97f-d358e7a80a4b"
      },
      "outputs": [
        {
          "output_type": "stream",
          "name": "stdout",
          "text": [
            "Mounted at /content/gdrive/\n",
            "/content/gdrive\n"
          ]
        }
      ],
      "source": [
        "from google.colab import drive\n",
        "\n",
        "drive.mount('/content/gdrive/', force_remount=True)\n",
        "%cd gdrive"
      ]
    },
    {
      "cell_type": "code",
      "source": [
        "%cd Othercomputers"
      ],
      "metadata": {
        "colab": {
          "base_uri": "https://localhost:8080/"
        },
        "id": "JjQvype8ID7J",
        "outputId": "6ed62346-a410-4e00-e1fa-6b832924d8cb"
      },
      "execution_count": 4,
      "outputs": [
        {
          "output_type": "stream",
          "name": "stdout",
          "text": [
            "/content/gdrive/Othercomputers\n"
          ]
        }
      ]
    },
    {
      "cell_type": "code",
      "source": [
        "%ldir"
      ],
      "metadata": {
        "colab": {
          "base_uri": "https://localhost:8080/"
        },
        "outputId": "e6a8ddaa-7416-4a15-8c59-41417aac1462",
        "id": "MqNHsj2AUiG6"
      },
      "execution_count": 5,
      "outputs": [
        {
          "output_type": "stream",
          "name": "stdout",
          "text": [
            "drwx------ 1 root 4096 Jan 27  2020 \u001b[0m\u001b[01;34mMy Laptop\u001b[0m/\n",
            "drwx------ 1 root 4096 May 29  2022 \u001b[01;34mMy Laptop (1)\u001b[0m/\n"
          ]
        }
      ]
    },
    {
      "cell_type": "code",
      "source": [
        "import glob, os, shutil, logging, time\n",
        "from hashlib import sha256"
      ],
      "metadata": {
        "id": "Q6eKjLZBIhA8"
      },
      "execution_count": 6,
      "outputs": []
    },
    {
      "cell_type": "code",
      "source": [
        "# Create a custom logger\n",
        "logger = logging.getLogger('gdrive-duplicate-remover')\n",
        "logger.propagate = False # do not pass logs to the default logger\n",
        "logging.basicConfig(\n",
        "                    level=logging.DEBUG,\n",
        "                    force=True, # Resets any previous configuration\n",
        "                    )\n",
        "# Create handlers\n",
        "handler = logging.StreamHandler()\n",
        "\n",
        "# Create formatters and add it to handlers\n",
        "format = logging.Formatter('%(asctime)s - %(name)s - %(levelname)s - %(message)s', datefmt='%d-%b-%y %H:%M:%S')\n",
        "handler.setFormatter(format)\n",
        "\n",
        "# Add handlers to the logger\n",
        "logger.addHandler(handler)\n",
        "logger.propagate = False"
      ],
      "metadata": {
        "id": "zgYvpi8iVRlh"
      },
      "execution_count": 7,
      "outputs": []
    },
    {
      "cell_type": "markdown",
      "source": [],
      "metadata": {
        "id": "1RG85x2rVRDc"
      }
    },
    {
      "cell_type": "code",
      "source": [
        "logger.debug('Test Logger')"
      ],
      "metadata": {
        "colab": {
          "base_uri": "https://localhost:8080/"
        },
        "id": "0imuaejIdDpZ",
        "outputId": "d81b9750-d224-48b6-acbb-46f7758f1d04"
      },
      "execution_count": 8,
      "outputs": [
        {
          "output_type": "stream",
          "name": "stderr",
          "text": [
            "29-Jan-23 07:48:17 - gdrive-duplicate-remover - DEBUG - Test Logger\n"
          ]
        }
      ]
    },
    {
      "cell_type": "code",
      "source": [
        "class GdriveCleaner:\n",
        "    def __init__(self):\n",
        "        self.home_dir = os.getcwd()\n",
        "        self.File_hashes = []\n",
        "        self.Cleaned_dirs = []\n",
        "        self.Total_bytes_saved = 0\n",
        "        self.block_size = 65536\n",
        "        self.count_cleaned = 0\n",
        "        logger.debug(\"HOME DIRECTORY : \" + str(self.home_dir))\n",
        "        logger.debug(\"DEFAULT BLOCK SIZE : \" + str(self.block_size))\n",
        "\n",
        "\n",
        "    def generate_hash(self, Filename: str) -> str:\n",
        "        Filehash = sha256()\n",
        "        try:\n",
        "            with open(Filename, 'rb') as File:\n",
        "                fileblock = File.read(self.block_size)\n",
        "                while len(fileblock) > 0:\n",
        "                    Filehash.update(fileblock)\n",
        "                    fileblock = File.read(self.block_size)\n",
        "                Filehash = Filehash.hexdigest()\n",
        "            return Filehash\n",
        "        except:\n",
        "            return False\n",
        "\n",
        "    def clean(self, folder_name) -> None:\n",
        "        logger.debug(\"Traversing paths in \" + folder_name)\n",
        "        all_dirs = [path[0] for path in os.walk(folder_name + '/')]\n",
        "        logger.debug(\"Traversing Completed!\")\n",
        "        for path in all_dirs:\n",
        "            logger.debug(\"Current directory : \" + path)\n",
        "            os.chdir(path)\n",
        "            All_Files = [file for file in os.listdir() if os.path.isfile(file)]\n",
        "            for file in All_Files:\n",
        "                filehash = self.generate_hash(file)\n",
        "                if not filehash in self.File_hashes:\n",
        "                    if filehash:\n",
        "                        self.File_hashes.append(filehash)\n",
        "                        # print(file)\n",
        "                else:\n",
        "                    byte_saved = os.path.getsize(file)\n",
        "                    self.count_cleaned += 1\n",
        "                    self.Total_bytes_saved += byte_saved\n",
        "                    os.remove(file)\n",
        "                    filename = file.split('/')[-1]\n",
        "                    logger.info(\"Cleaned : \", filename)\n",
        "            os.chdir(self.home_dir)\n",
        "\n",
        "    def cleaning_summary(self) -> None:\n",
        "        mb_saved = self.Total_bytes_saved / 1048576\n",
        "        mb_saved = round(mb_saved, 2)\n",
        "        logger.info('Duplicate removal done!')\n",
        "        logger.debug('File cleaned  : ' + str(self.count_cleaned))\n",
        "        logger.debug('Total Space saved : ' + str(mb_saved) + 'MB')\n",
        "\n",
        "    def main(self, folder_name) -> None:\n",
        "        logger.info(\"Starting Clean ...\")\n",
        "        self.clean(folder_name)\n",
        "        logger.info(\"Clean Completed! ...\")\n",
        "        self.cleaning_summary()\n",
        "\n",
        "\n",
        "def gdrive_duplicate_remover(folder_name):\n",
        "    App = GdriveCleaner()\n",
        "    App.main(folder_name)\n",
        "    return True"
      ],
      "metadata": {
        "id": "ZSm8cVOtPAEF"
      },
      "execution_count": 13,
      "outputs": []
    },
    {
      "cell_type": "code",
      "source": [
        "gdrive_duplicate_remover('')"
      ],
      "metadata": {
        "colab": {
          "base_uri": "https://localhost:8080/"
        },
        "id": "xzjWK9PzP6qp",
        "outputId": "f1aa9de6-3d05-49d3-d461-5069bf249f59"
      },
      "execution_count": null,
      "outputs": [
        {
          "output_type": "stream",
          "name": "stderr",
          "text": [
            "29-Jan-23 07:51:05 - gdrive-duplicate-remover - DEBUG - HOME DIRECTORY : /content/gdrive/Othercomputers\n",
            "29-Jan-23 07:51:05 - gdrive-duplicate-remover - DEBUG - DEFAULT BLOCK SIZE : 65536\n",
            "29-Jan-23 07:51:05 - gdrive-duplicate-remover - INFO - Starting Clean ...\n",
            "29-Jan-23 07:51:05 - gdrive-duplicate-remover - DEBUG - Traversing paths in \n"
          ]
        }
      ]
    },
    {
      "cell_type": "code",
      "source": [],
      "metadata": {
        "id": "l83XZUP4f99H"
      },
      "execution_count": null,
      "outputs": []
    }
  ]
}