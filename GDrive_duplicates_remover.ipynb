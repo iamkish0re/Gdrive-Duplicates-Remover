{
  "nbformat": 4,
  "nbformat_minor": 0,
  "metadata": {
    "colab": {
      "provenance": [],
      "authorship_tag": "ABX9TyOb4eLlVsDKkboPK77UGGVb",
      "include_colab_link": true
    },
    "kernelspec": {
      "name": "python3",
      "display_name": "Python 3"
    },
    "language_info": {
      "name": "python"
    }
  },
  "cells": [
    {
      "cell_type": "markdown",
      "metadata": {
        "id": "view-in-github",
        "colab_type": "text"
      },
      "source": [
        "<a href=\"https://colab.research.google.com/github/iamkish0re/Gdrive-Duplicates-Remover/blob/enhance-1.0/GDrive_duplicates_remover.ipynb\" target=\"_parent\"><img src=\"https://colab.research.google.com/assets/colab-badge.svg\" alt=\"Open In Colab\"/></a>"
      ]
    },
    {
      "cell_type": "markdown",
      "source": [
        "#   Google Drive duplicates remover (using colab)\n",
        "\n",
        "> This notebook will remove all the duplicates in the specified folder and subfolders of google drive and delete them (move them to trash).\n",
        "\n",
        "\n",
        "\n"
      ],
      "metadata": {
        "id": "whmxzyvLwh18"
      }
    },
    {
      "cell_type": "code",
      "execution_count": 2,
      "metadata": {
        "colab": {
          "base_uri": "https://localhost:8080/"
        },
        "id": "OYiB0YDbH3aH",
        "outputId": "0fbc2d37-6cf2-40bd-b3a7-83bf34013b12"
      },
      "outputs": [
        {
          "output_type": "stream",
          "name": "stdout",
          "text": [
            "Mounted at /content/gdrive/\n"
          ]
        }
      ],
      "source": [
        "from google.colab import drive\n",
        "drive.mount('/content/gdrive/', force_remount=True)"
      ]
    },
    {
      "cell_type": "markdown",
      "source": [
        "Usage :\n",
        "Specify the path of the folder which you want to find and remove duplicates\n",
        "\n",
        "Example: If the folder path is `root/user/company` and company is the folder you want to find duplicates. Specify `root/user` below"
      ],
      "metadata": {
        "id": "a4ET5YY0yq-5"
      }
    },
    {
      "cell_type": "code",
      "source": [
        "# %cd gdrive/Shareddrives/Munnar\n",
        "%cd gdrive/Othercomputers"
      ],
      "metadata": {
        "colab": {
          "base_uri": "https://localhost:8080/"
        },
        "outputId": "a29f14f1-f6b1-4aca-f3b9-c352beaff0b1",
        "id": "MqNHsj2AUiG6"
      },
      "execution_count": 3,
      "outputs": [
        {
          "output_type": "stream",
          "name": "stdout",
          "text": [
            "/content/gdrive/Othercomputers\n"
          ]
        }
      ]
    },
    {
      "cell_type": "code",
      "source": [
        "import glob, os, shutil, logging, time\n",
        "from hashlib import sha256"
      ],
      "metadata": {
        "id": "Q6eKjLZBIhA8"
      },
      "execution_count": 4,
      "outputs": []
    },
    {
      "cell_type": "code",
      "source": [
        "# Create a custom logger\n",
        "logger = logging.getLogger('gdrive-duplicate-remover')\n",
        "logger.propagate = False # do not pass logs to the default logger\n",
        "logging.basicConfig(\n",
        "                    level=logging.DEBUG,\n",
        "                    force=True, # Resets any previous configuration\n",
        "                    )\n",
        "# Create handlers\n",
        "handler = logging.StreamHandler()\n",
        "\n",
        "# Create formatters and add it to handlers\n",
        "format = logging.Formatter('%(asctime)s - %(name)s - %(levelname)s - %(message)s', datefmt='%d-%b-%y %H:%M:%S')\n",
        "handler.setFormatter(format)\n",
        "\n",
        "# Add handlers to the logger\n",
        "logger.addHandler(handler)\n",
        "logger.propagate = False"
      ],
      "metadata": {
        "id": "zgYvpi8iVRlh"
      },
      "execution_count": 5,
      "outputs": []
    },
    {
      "cell_type": "markdown",
      "source": [],
      "metadata": {
        "id": "1RG85x2rVRDc"
      }
    },
    {
      "cell_type": "code",
      "source": [
        "class GdriveCleaner:\n",
        "    def __init__(self):\n",
        "        self.HOME_DIRECTORY      = os.getcwd()\n",
        "        self.FILE_HASHES_UNIQUE  = []\n",
        "        self.MEMORY_DELETED_BYTE = 0\n",
        "        self.CHUNK_SIZE          = 65536\n",
        "        self.DEL_COUNT           = 0\n",
        "        logger.debug(\"HOME DIRECTORY : \" + str(self.HOME_DIRECTORY))\n",
        "        logger.debug(\"DEFAULT BLOCK SIZE : \" + str(self.CHUNK_SIZE))\n",
        "\n",
        "\n",
        "    def calculate_filehash(self, file: str) -> str:\n",
        "        filehash = sha256()\n",
        "        try:\n",
        "            with open(file, 'rb') as f:\n",
        "                chunk = f.read(self.CHUNK_SIZE)\n",
        "                while len(chunk) > 0:\n",
        "                    filehash.update(chunk)\n",
        "                    chunk = f.read(self.CHUNK_SIZE)\n",
        "                filehash = filehash.hexdigest()\n",
        "            return filehash\n",
        "        except:\n",
        "            return False\n",
        "\n",
        "    def check_and_delete_duplicates(self, folder_name) -> None:\n",
        "        logger.debug(\"-----------------------Traversing paths in \" + folder_name)\n",
        "\n",
        "        all_dirs_list = [path[0] for path in os.walk(folder_name + '/')]\n",
        "\n",
        "        logger.debug(\"-----------------------Traversing Completed!\")\n",
        "\n",
        "        for path in all_dirs_list:\n",
        "            logger.info(\"-----------------------Checking directory : \" + path)\n",
        "            os.chdir(path)\n",
        "            all_dir_current_list = [file for file in os.listdir() if os.path.isfile(file)]\n",
        "            for file in all_dir_current_list:\n",
        "                filehash = self.calculate_filehash(file)\n",
        "                if not filehash in self.FILE_HASHES_UNIQUE:\n",
        "                    if filehash:\n",
        "                        self.FILE_HASHES_UNIQUE.append(filehash)\n",
        "                else:\n",
        "                    logger.debug(\"Deleting : \" + file)\n",
        "                    del_file_size = os.path.getsize(file)\n",
        "                    \n",
        "                    os.remove(file)\n",
        "                    self.DEL_COUNT += 1\n",
        "                    self.MEMORY_DELETED_BYTE += del_file_size\n",
        "                    \n",
        "            os.chdir(self.HOME_DIRECTORY)\n",
        "\n",
        "        \n",
        "\n",
        "    def main(self, folder_name) -> None:\n",
        "        logger.info(\"-----------------------Starting Clean ...\")\n",
        "        self.check_and_delete_duplicates(folder_name)\n",
        "        logger.info(\"-----------------------Clean Completed! ...\")\n",
        "\n",
        "        memory_deleted_mb = round(self.MEMORY_DELETED_BYTE / 1048576, 2)\n",
        "\n",
        "        logger.info('-----------------------Duplicate removal done!')\n",
        "        logger.debug('-----------------------File cleaned  : ' + str(self.DEL_COUNT))\n",
        "        logger.debug('-----------------------Total Space saved : ' + str(memory_deleted_mb) + 'MB')\n",
        "\n",
        "\n",
        "def gdrive_duplicate_remover(folder_name) -> str:\n",
        "    App = GdriveCleaner()\n",
        "    App.main(folder_name)\n",
        "    return 'COMPLETED!'"
      ],
      "metadata": {
        "id": "ZSm8cVOtPAEF"
      },
      "execution_count": 6,
      "outputs": []
    },
    {
      "cell_type": "markdown",
      "source": [],
      "metadata": {
        "id": "ZXJPDK-owga2"
      }
    },
    {
      "cell_type": "code",
      "source": [
        "gdrive_duplicate_remover('My Laptop (1)/')"
      ],
      "metadata": {
        "colab": {
          "base_uri": "https://localhost:8080/"
        },
        "id": "qxKTrskq69VB",
        "outputId": "113c124b-2c37-4bcd-e116-8f3769bea851"
      },
      "execution_count": null,
      "outputs": [
        {
          "output_type": "stream",
          "name": "stderr",
          "text": [
            "29-Jan-23 15:05:06 - gdrive-duplicate-remover - DEBUG - HOME DIRECTORY : /content/gdrive/Othercomputers\n",
            "29-Jan-23 15:05:06 - gdrive-duplicate-remover - DEBUG - DEFAULT BLOCK SIZE : 65536\n",
            "29-Jan-23 15:05:06 - gdrive-duplicate-remover - INFO - -----------------------Starting Clean ...\n",
            "29-Jan-23 15:05:06 - gdrive-duplicate-remover - DEBUG - -----------------------Traversing paths in My Laptop (1)/\n"
          ]
        }
      ]
    },
    {
      "cell_type": "code",
      "source": [],
      "metadata": {
        "id": "oprh6YGUD3ny"
      },
      "execution_count": null,
      "outputs": []
    }
  ]
}